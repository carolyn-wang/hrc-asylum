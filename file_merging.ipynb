{
  "cells": [
    {
      "cell_type": "markdown",
      "metadata": {
        "id": "view-in-github",
        "colab_type": "text"
      },
      "source": [
        "<a href=\"https://colab.research.google.com/github/carolyn-wang/hrc-asylum/blob/main/file_merging.ipynb\" target=\"_parent\"><img src=\"https://colab.research.google.com/assets/colab-badge.svg\" alt=\"Open In Colab\"/></a>"
      ]
    },
    {
      "cell_type": "code",
      "execution_count": null,
      "metadata": {
        "id": "5EgYCl3lA0Un"
      },
      "outputs": [],
      "source": [
        "import pandas as pd"
      ]
    },
    {
      "cell_type": "code",
      "execution_count": null,
      "metadata": {
        "id": "sNO0JVgxKLLi",
        "outputId": "fb5f719f-cd5b-4284-af58-3d51a490631b"
      },
      "outputs": [
        {
          "name": "stderr",
          "output_type": "stream",
          "text": [
            "/Users/vyoma/opt/anaconda3/lib/python3.8/site-packages/IPython/core/interactiveshell.py:3165: DtypeWarning: Columns (37) have mixed types.Specify dtype option on import or set low_memory=False.\n",
            "  has_raised = await self.run_ast_nodes(code_ast.body, cell_name,\n",
            "/Users/vyoma/opt/anaconda3/lib/python3.8/site-packages/IPython/core/interactiveshell.py:3165: DtypeWarning: Columns (5,15,17,18,27,29,35,36) have mixed types.Specify dtype option on import or set low_memory=False.\n",
            "  has_raised = await self.run_ast_nodes(code_ast.body, cell_name,\n"
          ]
        }
      ],
      "source": [
        "merge1 = [pd.read_csv('B_TblProceeding_cleaned_2.csv'), pd.read_csv('A_TblCase_cleaned_2.csv')]"
      ]
    },
    {
      "cell_type": "markdown",
      "metadata": {
        "id": "MzUhBfvZlFXU"
      },
      "source": [
        "# 1.   Merge B_TblProceeding_cleaned_2.csv and A_TblCase_cleaned_2.csv "
      ]
    },
    {
      "cell_type": "code",
      "execution_count": null,
      "metadata": {
        "id": "qYWlGxyNKLLn",
        "outputId": "66cbf95b-3376-4d0d-d2bc-21006ec89fc5"
      },
      "outputs": [
        {
          "name": "stdout",
          "output_type": "stream",
          "text": [
            "(10132076, 38)\n",
            "(7748930, 39)\n"
          ]
        }
      ],
      "source": [
        "for df in merge1:\n",
        "    print(df.shape)\n",
        "\n",
        "merge1[0].columns = ['B_' + col.upper() for col in merge1[0].columns]\n",
        "merge1[1].columns = ['A_' + col.upper() for col in merge1[1].columns]"
      ]
    },
    {
      "cell_type": "code",
      "execution_count": null,
      "metadata": {
        "id": "bJwlUaF0KLL2"
      },
      "outputs": [],
      "source": [
        "merge2 = [merge1[0].merge(merge1[1], how='left', left_on='B_IDNCASE', right_on='A_IDNCASE'), \n",
        "          pd.read_csv('tbl_RepsAssigned_Alien.csv')]"
      ]
    },
    {
      "cell_type": "markdown",
      "metadata": {
        "id": "gttsK_wqlWQ8"
      },
      "source": [
        "# 2. Merge B_TblProceeding_cleaned_2.csv and tbl_RepsAssigned_cleaned.csv"
      ]
    },
    {
      "cell_type": "code",
      "execution_count": null,
      "metadata": {
        "id": "_K3EAAG_KLL3",
        "outputId": "237b11d9-35ec-4eaf-a94d-fbbfddf52395"
      },
      "outputs": [
        {
          "name": "stdout",
          "output_type": "stream",
          "text": [
            "(10132076, 77)\n",
            "(3288019, 3)\n"
          ]
        }
      ],
      "source": [
        "for df in merge2:\n",
        "    print(df.shape)\n",
        "\n",
        "merge2[1].columns = ['REPS_' + col.upper() for col in merge2[1].columns]"
      ]
    },
    {
      "cell_type": "code",
      "execution_count": null,
      "metadata": {
        "id": "wMcKA-vzKLL8"
      },
      "outputs": [],
      "source": [
        "del merge1"
      ]
    },
    {
      "cell_type": "code",
      "execution_count": null,
      "metadata": {
        "id": "U-XFZlrmKLMG"
      },
      "outputs": [],
      "source": [
        "merge3 = [merge2[0].merge(merge2[1], how='left', left_on='B_IDNCASE', right_on='REPS_IDNCASE'), \n",
        "         pd.read_csv('tbl_RepsAssigned_INS.csv')]"
      ]
    },
    {
      "cell_type": "code",
      "execution_count": null,
      "metadata": {
        "id": "e_faohgCKLMk",
        "outputId": "4b77af54-b53a-4bd8-a557-88591c1950d6"
      },
      "outputs": [
        {
          "name": "stdout",
          "output_type": "stream",
          "text": [
            "(10132076, 80)\n",
            "(7033863, 3)\n"
          ]
        }
      ],
      "source": [
        "for df in merge3:\n",
        "    print(df.shape)\n",
        "\n",
        "merge3[1].columns = ['REPS_' + col.upper() for col in merge3[1].columns]"
      ]
    },
    {
      "cell_type": "code",
      "execution_count": null,
      "metadata": {
        "id": "UD9-quiOKLMl"
      },
      "outputs": [],
      "source": [
        "del merge2"
      ]
    },
    {
      "cell_type": "code",
      "execution_count": null,
      "metadata": {
        "id": "drqk6gJ3KLMm"
      },
      "outputs": [],
      "source": [
        "merge4 = [merge3[0].merge(merge3[1], how='left', left_on='B_IDNPROCEEDING', right_on='REPS_PARENT_IDN'), \n",
        "         pd.read_csv('tbl_JuvenileHistory_encoded.csv')]"
      ]
    },
    {
      "cell_type": "markdown",
      "metadata": {
        "id": "9tM14FccliOa"
      },
      "source": [
        "# 3. Merge B_TblProceeding_cleaned_2.csv and tbl_JuvenileHistory_encoded.csv"
      ]
    },
    {
      "cell_type": "code",
      "execution_count": null,
      "metadata": {
        "id": "Sg3cTZlRKLMn",
        "outputId": "1d272a9d-026d-4c05-938f-26e01cf10c91"
      },
      "outputs": [
        {
          "name": "stdout",
          "output_type": "stream",
          "text": [
            "(10132076, 83)\n",
            "(2068766, 7)\n"
          ]
        }
      ],
      "source": [
        "for df in merge4:\n",
        "    print(df.shape)\n",
        "\n",
        "merge4[1].columns = ['JUV_' + col.upper() for col in merge4[1].columns]"
      ]
    },
    {
      "cell_type": "code",
      "execution_count": null,
      "metadata": {
        "id": "3-6FaxF9KLMo"
      },
      "outputs": [],
      "source": [
        "del merge3"
      ]
    },
    {
      "cell_type": "code",
      "execution_count": null,
      "metadata": {
        "id": "b7PJH9QuKLMo"
      },
      "outputs": [],
      "source": [
        "merge5 = [merge4[0].merge(merge4[1], how='left', left_on='B_IDNPROCEEDING', right_on='JUV_IDNPROCEEDING'), \n",
        "          pd.read_csv('judge_data_key.csv')]"
      ]
    },
    {
      "cell_type": "markdown",
      "metadata": {
        "id": "1L3j-cjts7KU"
      },
      "source": [
        "# 4. Merge B_TblProceeding_final.csv with judge_data_key.csv"
      ]
    },
    {
      "cell_type": "code",
      "execution_count": null,
      "metadata": {
        "id": "9BvV1eQOKLMp",
        "outputId": "0a27336f-98aa-4b2c-bfed-7445df46946d"
      },
      "outputs": [
        {
          "name": "stdout",
          "output_type": "stream",
          "text": [
            "(10132076, 90)\n",
            "(641, 70)\n"
          ]
        }
      ],
      "source": [
        "for df in merge5:\n",
        "    print(df.shape)"
      ]
    },
    {
      "cell_type": "code",
      "execution_count": null,
      "metadata": {
        "id": "y4S_s556KLMp"
      },
      "outputs": [],
      "source": [
        "del merge4"
      ]
    },
    {
      "cell_type": "code",
      "execution_count": null,
      "metadata": {
        "id": "0LwBZPcrKLMq"
      },
      "outputs": [],
      "source": [
        "final_df = merge5[0].merge(merge5[1], how='left', left_on='B_IJ_CODE', right_on='JUDGE_CODE')"
      ]
    },
    {
      "cell_type": "code",
      "execution_count": null,
      "metadata": {
        "colab": {
          "base_uri": "https://localhost:8080/",
          "height": 661
        },
        "id": "KdLp4yk9gDJR",
        "outputId": "a9c34e72-bba7-40fb-90bb-797a6aeb8a02"
      },
      "outputs": [
        {
          "data": {
            "text/plain": [
              "(10132076, 160)"
            ]
          },
          "execution_count": 17,
          "metadata": {},
          "output_type": "execute_result"
        }
      ],
      "source": [
        "final_df.shape"
      ]
    },
    {
      "cell_type": "code",
      "execution_count": null,
      "metadata": {
        "id": "2o_a6fOkKLMr",
        "outputId": "ac68f6ce-f01c-416c-a1cf-a313f70ac1a5"
      },
      "outputs": [
        {
          "data": {
            "text/html": [
              "<div>\n",
              "<style scoped>\n",
              "    .dataframe tbody tr th:only-of-type {\n",
              "        vertical-align: middle;\n",
              "    }\n",
              "\n",
              "    .dataframe tbody tr th {\n",
              "        vertical-align: top;\n",
              "    }\n",
              "\n",
              "    .dataframe thead th {\n",
              "        text-align: right;\n",
              "    }\n",
              "</style>\n",
              "<table border=\"1\" class=\"dataframe\">\n",
              "  <thead>\n",
              "    <tr style=\"text-align: right;\">\n",
              "      <th></th>\n",
              "      <th>B_IDNPROCEEDING</th>\n",
              "      <th>B_IDNCASE</th>\n",
              "      <th>B_OSC_DATE</th>\n",
              "      <th>B_INPUT_DATE</th>\n",
              "      <th>B_BASE_CITY_CODE</th>\n",
              "      <th>B_HEARING_LOC_CODE</th>\n",
              "      <th>B_IJ_CODE</th>\n",
              "      <th>B_TRANS_IN_DATE</th>\n",
              "      <th>B_PREV_HEARING_LOC</th>\n",
              "      <th>B_PREV_HEARING_BASE</th>\n",
              "      <th>...</th>\n",
              "      <th>JUDGE_WI_BAR</th>\n",
              "      <th>JUDGE_WY_BAR</th>\n",
              "      <th>JUDGE_PR_BAR</th>\n",
              "      <th>JUDGE_FEMALE</th>\n",
              "      <th>JUDGE_MALE</th>\n",
              "      <th>JUDGE_MILITARY_EXP</th>\n",
              "      <th>JUDGE_TEACHING_EXP</th>\n",
              "      <th>JUDGE_TEACHING_SCHOOL</th>\n",
              "      <th>JUDGE_DHS_EXP</th>\n",
              "      <th>JUDGE_CODE</th>\n",
              "    </tr>\n",
              "  </thead>\n",
              "  <tbody>\n",
              "    <tr>\n",
              "      <th>0</th>\n",
              "      <td>10354816</td>\n",
              "      <td>10238811.0</td>\n",
              "      <td>2021-12-28</td>\n",
              "      <td>NaN</td>\n",
              "      <td>BAL</td>\n",
              "      <td>BAX</td>\n",
              "      <td>DK1</td>\n",
              "      <td>NaN</td>\n",
              "      <td>NaN</td>\n",
              "      <td>NaN</td>\n",
              "      <td>...</td>\n",
              "      <td>0.0</td>\n",
              "      <td>0.0</td>\n",
              "      <td>0.0</td>\n",
              "      <td>0.0</td>\n",
              "      <td>1.0</td>\n",
              "      <td>0.0</td>\n",
              "      <td>1.0</td>\n",
              "      <td>University of Detroit</td>\n",
              "      <td>1.0</td>\n",
              "      <td>DK1</td>\n",
              "    </tr>\n",
              "    <tr>\n",
              "      <th>1</th>\n",
              "      <td>10354817</td>\n",
              "      <td>10238812.0</td>\n",
              "      <td>2021-12-28</td>\n",
              "      <td>NaN</td>\n",
              "      <td>ORL</td>\n",
              "      <td>IAD</td>\n",
              "      <td>IAD</td>\n",
              "      <td>NaN</td>\n",
              "      <td>NaN</td>\n",
              "      <td>NaN</td>\n",
              "      <td>...</td>\n",
              "      <td>NaN</td>\n",
              "      <td>NaN</td>\n",
              "      <td>NaN</td>\n",
              "      <td>NaN</td>\n",
              "      <td>NaN</td>\n",
              "      <td>NaN</td>\n",
              "      <td>NaN</td>\n",
              "      <td>NaN</td>\n",
              "      <td>NaN</td>\n",
              "      <td>NaN</td>\n",
              "    </tr>\n",
              "    <tr>\n",
              "      <th>2</th>\n",
              "      <td>10354818</td>\n",
              "      <td>10238813.0</td>\n",
              "      <td>2021-12-28</td>\n",
              "      <td>NaN</td>\n",
              "      <td>BAL</td>\n",
              "      <td>BAX</td>\n",
              "      <td>DK1</td>\n",
              "      <td>NaN</td>\n",
              "      <td>NaN</td>\n",
              "      <td>NaN</td>\n",
              "      <td>...</td>\n",
              "      <td>0.0</td>\n",
              "      <td>0.0</td>\n",
              "      <td>0.0</td>\n",
              "      <td>0.0</td>\n",
              "      <td>1.0</td>\n",
              "      <td>0.0</td>\n",
              "      <td>1.0</td>\n",
              "      <td>University of Detroit</td>\n",
              "      <td>1.0</td>\n",
              "      <td>DK1</td>\n",
              "    </tr>\n",
              "    <tr>\n",
              "      <th>3</th>\n",
              "      <td>10354819</td>\n",
              "      <td>10238814.0</td>\n",
              "      <td>2021-12-28</td>\n",
              "      <td>NaN</td>\n",
              "      <td>ORL</td>\n",
              "      <td>IAD</td>\n",
              "      <td>IAD</td>\n",
              "      <td>NaN</td>\n",
              "      <td>NaN</td>\n",
              "      <td>NaN</td>\n",
              "      <td>...</td>\n",
              "      <td>NaN</td>\n",
              "      <td>NaN</td>\n",
              "      <td>NaN</td>\n",
              "      <td>NaN</td>\n",
              "      <td>NaN</td>\n",
              "      <td>NaN</td>\n",
              "      <td>NaN</td>\n",
              "      <td>NaN</td>\n",
              "      <td>NaN</td>\n",
              "      <td>NaN</td>\n",
              "    </tr>\n",
              "    <tr>\n",
              "      <th>4</th>\n",
              "      <td>10354820</td>\n",
              "      <td>10238815.0</td>\n",
              "      <td>2021-12-28</td>\n",
              "      <td>NaN</td>\n",
              "      <td>NLA</td>\n",
              "      <td>NLT</td>\n",
              "      <td>NNA</td>\n",
              "      <td>NaN</td>\n",
              "      <td>NaN</td>\n",
              "      <td>NaN</td>\n",
              "      <td>...</td>\n",
              "      <td>0.0</td>\n",
              "      <td>0.0</td>\n",
              "      <td>0.0</td>\n",
              "      <td>0.0</td>\n",
              "      <td>0.0</td>\n",
              "      <td>0.0</td>\n",
              "      <td>0.0</td>\n",
              "      <td>NaN</td>\n",
              "      <td>1.0</td>\n",
              "      <td>NNA</td>\n",
              "    </tr>\n",
              "    <tr>\n",
              "      <th>...</th>\n",
              "      <td>...</td>\n",
              "      <td>...</td>\n",
              "      <td>...</td>\n",
              "      <td>...</td>\n",
              "      <td>...</td>\n",
              "      <td>...</td>\n",
              "      <td>...</td>\n",
              "      <td>...</td>\n",
              "      <td>...</td>\n",
              "      <td>...</td>\n",
              "      <td>...</td>\n",
              "      <td>...</td>\n",
              "      <td>...</td>\n",
              "      <td>...</td>\n",
              "      <td>...</td>\n",
              "      <td>...</td>\n",
              "      <td>...</td>\n",
              "      <td>...</td>\n",
              "      <td>...</td>\n",
              "      <td>...</td>\n",
              "      <td>...</td>\n",
              "    </tr>\n",
              "    <tr>\n",
              "      <th>10132071</th>\n",
              "      <td>2346784</td>\n",
              "      <td>3930570.0</td>\n",
              "      <td>1998-12-13</td>\n",
              "      <td>1999-03-17 13:40:00</td>\n",
              "      <td>SNA</td>\n",
              "      <td>SNA</td>\n",
              "      <td>GPM</td>\n",
              "      <td>1999-04-01</td>\n",
              "      <td>HLG</td>\n",
              "      <td>HLG</td>\n",
              "      <td>...</td>\n",
              "      <td>0.0</td>\n",
              "      <td>0.0</td>\n",
              "      <td>0.0</td>\n",
              "      <td>0.0</td>\n",
              "      <td>1.0</td>\n",
              "      <td>0.0</td>\n",
              "      <td>0.0</td>\n",
              "      <td>NaN</td>\n",
              "      <td>0.0</td>\n",
              "      <td>GPM</td>\n",
              "    </tr>\n",
              "    <tr>\n",
              "      <th>10132072</th>\n",
              "      <td>2360046</td>\n",
              "      <td>3940478.0</td>\n",
              "      <td>1999-03-12</td>\n",
              "      <td>1999-06-14 00:00:00</td>\n",
              "      <td>ELP</td>\n",
              "      <td>ELP</td>\n",
              "      <td>GDB</td>\n",
              "      <td>NaN</td>\n",
              "      <td>NaN</td>\n",
              "      <td>NaN</td>\n",
              "      <td>...</td>\n",
              "      <td>0.0</td>\n",
              "      <td>0.0</td>\n",
              "      <td>0.0</td>\n",
              "      <td>0.0</td>\n",
              "      <td>1.0</td>\n",
              "      <td>0.0</td>\n",
              "      <td>0.0</td>\n",
              "      <td>NaN</td>\n",
              "      <td>1.0</td>\n",
              "      <td>GDB</td>\n",
              "    </tr>\n",
              "    <tr>\n",
              "      <th>10132073</th>\n",
              "      <td>986170</td>\n",
              "      <td>2724276.0</td>\n",
              "      <td>1996-12-02</td>\n",
              "      <td>1996-12-30 00:00:00</td>\n",
              "      <td>HSG</td>\n",
              "      <td>HUN</td>\n",
              "      <td>JLB</td>\n",
              "      <td>NaN</td>\n",
              "      <td>NaN</td>\n",
              "      <td>NaN</td>\n",
              "      <td>...</td>\n",
              "      <td>NaN</td>\n",
              "      <td>NaN</td>\n",
              "      <td>NaN</td>\n",
              "      <td>NaN</td>\n",
              "      <td>NaN</td>\n",
              "      <td>NaN</td>\n",
              "      <td>NaN</td>\n",
              "      <td>NaN</td>\n",
              "      <td>NaN</td>\n",
              "      <td>NaN</td>\n",
              "    </tr>\n",
              "    <tr>\n",
              "      <th>10132074</th>\n",
              "      <td>1300339</td>\n",
              "      <td>2969837.0</td>\n",
              "      <td>1998-03-25</td>\n",
              "      <td>1998-04-08 00:00:00</td>\n",
              "      <td>LOS</td>\n",
              "      <td>LOS</td>\n",
              "      <td>AAT</td>\n",
              "      <td>NaN</td>\n",
              "      <td>NaN</td>\n",
              "      <td>NaN</td>\n",
              "      <td>...</td>\n",
              "      <td>0.0</td>\n",
              "      <td>0.0</td>\n",
              "      <td>0.0</td>\n",
              "      <td>1.0</td>\n",
              "      <td>0.0</td>\n",
              "      <td>0.0</td>\n",
              "      <td>1.0</td>\n",
              "      <td>University of Southern California, George Wash...</td>\n",
              "      <td>0.0</td>\n",
              "      <td>AAT</td>\n",
              "    </tr>\n",
              "    <tr>\n",
              "      <th>10132075</th>\n",
              "      <td>1337099</td>\n",
              "      <td>3000616.0</td>\n",
              "      <td>1997-02-07</td>\n",
              "      <td>1997-02-28 00:00:00</td>\n",
              "      <td>LOS</td>\n",
              "      <td>LOS</td>\n",
              "      <td>HPI</td>\n",
              "      <td>NaN</td>\n",
              "      <td>NaN</td>\n",
              "      <td>NaN</td>\n",
              "      <td>...</td>\n",
              "      <td>0.0</td>\n",
              "      <td>0.0</td>\n",
              "      <td>0.0</td>\n",
              "      <td>0.0</td>\n",
              "      <td>1.0</td>\n",
              "      <td>0.0</td>\n",
              "      <td>0.0</td>\n",
              "      <td>NaN</td>\n",
              "      <td>0.0</td>\n",
              "      <td>HPI</td>\n",
              "    </tr>\n",
              "  </tbody>\n",
              "</table>\n",
              "<p>10132076 rows × 160 columns</p>\n",
              "</div>"
            ],
            "text/plain": [
              "          B_IDNPROCEEDING   B_IDNCASE  B_OSC_DATE         B_INPUT_DATE  \\\n",
              "0                10354816  10238811.0  2021-12-28                  NaN   \n",
              "1                10354817  10238812.0  2021-12-28                  NaN   \n",
              "2                10354818  10238813.0  2021-12-28                  NaN   \n",
              "3                10354819  10238814.0  2021-12-28                  NaN   \n",
              "4                10354820  10238815.0  2021-12-28                  NaN   \n",
              "...                   ...         ...         ...                  ...   \n",
              "10132071          2346784   3930570.0  1998-12-13  1999-03-17 13:40:00   \n",
              "10132072          2360046   3940478.0  1999-03-12  1999-06-14 00:00:00   \n",
              "10132073           986170   2724276.0  1996-12-02  1996-12-30 00:00:00   \n",
              "10132074          1300339   2969837.0  1998-03-25  1998-04-08 00:00:00   \n",
              "10132075          1337099   3000616.0  1997-02-07  1997-02-28 00:00:00   \n",
              "\n",
              "         B_BASE_CITY_CODE B_HEARING_LOC_CODE B_IJ_CODE B_TRANS_IN_DATE  \\\n",
              "0                     BAL                BAX       DK1             NaN   \n",
              "1                     ORL                IAD       IAD             NaN   \n",
              "2                     BAL                BAX       DK1             NaN   \n",
              "3                     ORL                IAD       IAD             NaN   \n",
              "4                     NLA                NLT       NNA             NaN   \n",
              "...                   ...                ...       ...             ...   \n",
              "10132071              SNA                SNA       GPM      1999-04-01   \n",
              "10132072              ELP                ELP       GDB             NaN   \n",
              "10132073              HSG                HUN       JLB             NaN   \n",
              "10132074              LOS                LOS       AAT             NaN   \n",
              "10132075              LOS                LOS       HPI             NaN   \n",
              "\n",
              "         B_PREV_HEARING_LOC B_PREV_HEARING_BASE  ... JUDGE_WI_BAR  \\\n",
              "0                       NaN                 NaN  ...          0.0   \n",
              "1                       NaN                 NaN  ...          NaN   \n",
              "2                       NaN                 NaN  ...          0.0   \n",
              "3                       NaN                 NaN  ...          NaN   \n",
              "4                       NaN                 NaN  ...          0.0   \n",
              "...                     ...                 ...  ...          ...   \n",
              "10132071                HLG                 HLG  ...          0.0   \n",
              "10132072                NaN                 NaN  ...          0.0   \n",
              "10132073                NaN                 NaN  ...          NaN   \n",
              "10132074                NaN                 NaN  ...          0.0   \n",
              "10132075                NaN                 NaN  ...          0.0   \n",
              "\n",
              "          JUDGE_WY_BAR JUDGE_PR_BAR  JUDGE_FEMALE JUDGE_MALE  \\\n",
              "0                  0.0          0.0           0.0        1.0   \n",
              "1                  NaN          NaN           NaN        NaN   \n",
              "2                  0.0          0.0           0.0        1.0   \n",
              "3                  NaN          NaN           NaN        NaN   \n",
              "4                  0.0          0.0           0.0        0.0   \n",
              "...                ...          ...           ...        ...   \n",
              "10132071           0.0          0.0           0.0        1.0   \n",
              "10132072           0.0          0.0           0.0        1.0   \n",
              "10132073           NaN          NaN           NaN        NaN   \n",
              "10132074           0.0          0.0           1.0        0.0   \n",
              "10132075           0.0          0.0           0.0        1.0   \n",
              "\n",
              "         JUDGE_MILITARY_EXP JUDGE_TEACHING_EXP  \\\n",
              "0                       0.0                1.0   \n",
              "1                       NaN                NaN   \n",
              "2                       0.0                1.0   \n",
              "3                       NaN                NaN   \n",
              "4                       0.0                0.0   \n",
              "...                     ...                ...   \n",
              "10132071                0.0                0.0   \n",
              "10132072                0.0                0.0   \n",
              "10132073                NaN                NaN   \n",
              "10132074                0.0                1.0   \n",
              "10132075                0.0                0.0   \n",
              "\n",
              "                                      JUDGE_TEACHING_SCHOOL JUDGE_DHS_EXP  \\\n",
              "0                                     University of Detroit           1.0   \n",
              "1                                                       NaN           NaN   \n",
              "2                                     University of Detroit           1.0   \n",
              "3                                                       NaN           NaN   \n",
              "4                                                       NaN           1.0   \n",
              "...                                                     ...           ...   \n",
              "10132071                                                NaN           0.0   \n",
              "10132072                                                NaN           1.0   \n",
              "10132073                                                NaN           NaN   \n",
              "10132074  University of Southern California, George Wash...           0.0   \n",
              "10132075                                                NaN           0.0   \n",
              "\n",
              "         JUDGE_CODE  \n",
              "0               DK1  \n",
              "1               NaN  \n",
              "2               DK1  \n",
              "3               NaN  \n",
              "4               NNA  \n",
              "...             ...  \n",
              "10132071        GPM  \n",
              "10132072        GDB  \n",
              "10132073        NaN  \n",
              "10132074        AAT  \n",
              "10132075        HPI  \n",
              "\n",
              "[10132076 rows x 160 columns]"
            ]
          },
          "execution_count": 18,
          "metadata": {},
          "output_type": "execute_result"
        }
      ],
      "source": [
        "final_df"
      ]
    },
    {
      "cell_type": "code",
      "execution_count": null,
      "metadata": {
        "id": "gHPovoTVKLMs"
      },
      "outputs": [],
      "source": [
        "final_df.to_csv('data_restrict_impute_features_trim_rename.csv', index=False)"
      ]
    }
  ],
  "metadata": {
    "colab": {
      "collapsed_sections": [],
      "name": "file_merging.ipynb",
      "provenance": [],
      "include_colab_link": true
    },
    "kernelspec": {
      "display_name": "Python 3",
      "language": "python",
      "name": "python3"
    },
    "language_info": {
      "codemirror_mode": {
        "name": "ipython",
        "version": 3
      },
      "file_extension": ".py",
      "mimetype": "text/x-python",
      "name": "python",
      "nbconvert_exporter": "python",
      "pygments_lexer": "ipython3",
      "version": "3.8.8"
    }
  },
  "nbformat": 4,
  "nbformat_minor": 0
}